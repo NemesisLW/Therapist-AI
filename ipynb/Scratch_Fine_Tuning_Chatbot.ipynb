{
  "nbformat": 4,
  "nbformat_minor": 0,
  "metadata": {
    "colab": {
      "provenance": []
    },
    "kernelspec": {
      "name": "python3",
      "display_name": "Python 3"
    },
    "language_info": {
      "name": "python"
    }
  },
  "cells": [
    {
      "cell_type": "markdown",
      "source": [
        "#**First We get aceess from our google drive**# "
      ],
      "metadata": {
        "id": "3rv87YwAt8kD"
      }
    },
    {
      "cell_type": "code",
      "source": [
        "from google.colab import drive\n",
        "drive.mount('/content/gdrive')"
      ],
      "metadata": {
        "id": "V_7xthYHMuVy"
      },
      "execution_count": null,
      "outputs": []
    },
    {
      "cell_type": "markdown",
      "source": [
        "## **Here we import the important libraries for formatting our training data**"
      ],
      "metadata": {
        "id": "Ri6rPsZyu2H7"
      }
    },
    {
      "cell_type": "code",
      "source": [
        "import json\n",
        "import yaml"
      ],
      "metadata": {
        "id": "36qfbOUZM44c"
      },
      "execution_count": null,
      "outputs": []
    },
    {
      "cell_type": "code",
      "source": [
        "#the yml file gets loaded in the data variable \n",
        "with open('gdrive/MyDrive/depression.yml', 'r') as file:\n",
        "     data = yaml.safe_load(file)\n",
        "\n",
        "data"
      ],
      "metadata": {
        "id": "jovOn-wyNwPL"
      },
      "execution_count": null,
      "outputs": []
    },
    {
      "cell_type": "code",
      "source": [
        "convos = data['conversations']\n",
        "\n",
        "convos[0]"
      ],
      "metadata": {
        "id": "OmTsPZSpOG0g"
      },
      "execution_count": null,
      "outputs": []
    },
    {
      "cell_type": "code",
      "source": [
        "output = []"
      ],
      "metadata": {
        "id": "o-v437pATBrh"
      },
      "execution_count": null,
      "outputs": []
    },
    {
      "cell_type": "code",
      "source": [
        "#Basically here we change the .yml to list of dictionaries\n",
        "for convo in convos:\n",
        "  completion = ''\n",
        "  for i, dialog in enumerate(convo):\n",
        "    if i == 0:\n",
        "      prompt = dialog\n",
        "      prompt = prompt.replace(\"\\xa0\", \" \")\n",
        "    else:\n",
        "      completion += \" \" + dialog\n",
        "      completion = completion.replace(\"\\xa0\", \" \")\n",
        "  completion = completion.strip()\n",
        "  line = {'prompt': prompt, 'completion': completion}\n",
        "  output.append(line)\n",
        "print(output)"
      ],
      "metadata": {
        "colab": {
          "base_uri": "https://localhost:8080/"
        },
        "id": "3Yz-LYKiOXln",
        "outputId": "ac4e948c-eebd-4157-e92e-f64c94188319"
      },
      "execution_count": null,
      "outputs": [
        {
          "output_type": "stream",
          "name": "stdout",
          "text": [
            "[{'prompt': 'What Is Depression?', 'completion': 'Depression is a common and serious medical illness that negatively affects how you feel, the way you think and how you act. Fortunately,it is also treatable. Depression causes feelings of sadness and/or a loss of interest in activities you once enjoyed. It can lead to a variety of emotional and physical problems and can decrease your ability to function at work and at home.'}, {'prompt': 'I feel i have let my parents down', 'completion': 'No matter what,your parents will always be proud of you and will love you. You will feel much better if you share your feelings with them.'}, {'prompt': 'What are the types of depression?', 'completion': 'There are many different forms of depression but most common types are. Clinical depression,persistent depressive disorder,bipolar disorder,postnatal disorder.'}, {'prompt': 'I am good for nothing.', 'completion': \"Don't ever think you cannot achieve what you want. You are capable of reaching your goals.Here is a quote for you Everything you can imagine is real.\"}, {'prompt': 'I am feeling stressed lately', 'completion': 'My research says that music is the best way to calm yourself. so visit the link and listen to your favourite music. it will definitely cheer you up \"https://www.spotify.com\"'}, {'prompt': 'i want to kill myself', 'completion': 'Helpline is available,you can contact the counsellor today:9152987821.Always remember you mean something to someone.'}, {'prompt': 'i am afraid i will fail again', 'completion': 'failure is the stepping stone towards success.Never fear failure. Your hardwork and determination will help you reach your goal.'}, {'prompt': 'What is Depression?', 'completion': 'Depression is a mood disorder that causes a persistent feeling of sadness and loss of interest. Also called major depressive disorder or clinical depression, it affects how you feel, think and behave and can lead to a variety of emotional and physical problems.'}, {'prompt': 'What are the causes of depression?', 'completion': \"It's complicated, and there are multiple causes of major depression. Factors such as genetic vulnerability, severe life stressors, substances you may take (some medications, drugs and alcohol) and medical conditions can affect the way your brain regulates your moods.\"}, {'prompt': 'What are the top causes of depression?', 'completion': 'Abuse. Past physical, sexual, or emotional abuse can increase the vulnerability to clinical depression later in life.'}, {'prompt': 'Which age group has the highest rate of depression?', 'completion': 'This number represented 7.1% of all U.S. adults. The prevalence of major depressive episode was higher among adult females (8.7%) compared to males (5.3%). The prevalence of adults with a major depressive episode was highest among individuals aged 18-25 (13.1%).'}, {'prompt': 'Which country has the highest rate of depression?', 'completion': 'The most depressed country is Afghanistan, where more than one in five people suffer from the disorder. The least depressed is Japan, with a diagnosed rate of less than 2.5 percent.'}, {'prompt': 'Which country has the lowest rate of depression?', 'completion': 'The most depressed country is Afghanistan, where more than one in five people suffer from the disorder. The least depressed is Japan, with a diagnosed rate of less than 2.5 percent.'}, {'prompt': 'Is school a cause of depression?', 'completion': 'Not only does school sometimes contribute to depression, depression can also interfere with school. Moreover, research shows that 75 percent of all mental health conditions begin by age 24. Hence, the college years are a critical time for understanding and talking about teen mental health.'}, {'prompt': 'What is the biological cause of depression?', 'completion': \"There is no single cause for depression; rather it's a combination of stress and a person's vulnerability to developing depression. The predisposition to developing depression can be inherited. Other biological causes for depression can include physical illness, the process of ageing and gender.\"}, {'prompt': 'How does depression affect the world?', 'completion': 'Depression is a leading cause of disability worldwide and is a major contributor to the overall global burden of disease. More women are affected by depression than men. Depression can lead to suicide. There are effective psychological and pharmacological treatments for moderate and severe depression.'}, {'prompt': 'Which race has the highest rate of depression?', 'completion': 'Major depression was most prevalent among Hispanics (10.8%), followed by African Americans (8.9%) and Whites (7.8%). The odds of depressive disorders among older Hispanics were 44% greater than among Whites (OR = 1.44; 95% CI = 1.02, 2.04), representing a significantly greater prevalence of major depression.'}, {'prompt': 'What is the meaning of anxiety and depression?', 'completion': 'Depression and anxiety disorders are different, but people with depression often experience symptoms similar to those of an anxiety disorder, such as nervousness, irritability, and problems sleeping and concentrating. But each disorder has its own causes and its own emotional and behavioral symptoms.'}, {'prompt': 'Does oversleeping cause depression?', 'completion': \"It's important to remember that oversleeping is a possible symptom of depression and that oversleeping doesn't cause depression. But it can exacerbate and worsen depression symptoms\"}, {'prompt': 'Can lack of sleep make you feel sad?', 'completion': 'Studies show people who are sleep deprived report increases in negative moods (anger, frustration, irritability, sadness) and decreases in positive moods. And sleeplessness is often a symptom of mood disorders, such as depression and anxiety.'}, {'prompt': 'Is depression a side effect of diabetes?', 'completion': \"If you have diabetes — either type 1 or type 2 — you have an increased risk of developing depression. And if you're depressed, you may have a greater chance of developing type 2 diabetes. The good news is that diabetes and depression can be treated together.\"}, {'prompt': 'Can low blood sugar cause suicidal thoughts?', 'completion': 'The observed association between plasma glucose levels, insulin resistance and suicidal behaviour suggests that disturbances in glucose metabolism are associated with suicidal ideation and attempts.'}, {'prompt': 'How long can Anxiety last?', 'completion': \"Anxiety attacks usually peak within 10 minutes, and they rarely last more than 30 minutes. But during that short time, you may experience terror so severe that you feel as if you're about to die or totally lose control.\"}, {'prompt': 'What are the stages of anxiety?', 'completion': 'Anxiety levels are typically classified by the level of distress and impairment experienced into four categories namely, mild anxiety, moderate anxiety, severe anxiety and panic level anxiety.'}, {'prompt': 'At what age does anxiety peak?', 'completion': 'Adults ages 30 to 44 have the highest rate of anxiety of this age group, with around 23% of people this age reporting an anxiety disorder within the past year.'}, {'prompt': 'Why is anxiety bad for you?', 'completion': 'Anxiety disorders can cause rapid heart rate, palpitations, and chest pain. You may also be at an increased risk of high blood pressure and heart disease. If you already have heart disease, anxiety disorders may raise the risk of coronary events.'}, {'prompt': 'What is the 3 3 3 rule for anxiety?', 'completion': \"There's an anxiety-reducing technique called grounding. There are different versions of this, but an easy one to remember is the 3-3-3 rule. Mentally note three things you see, three sounds you hear, and then move three parts of your body. This exercise can help your mind refocus on something else.\"}, {'prompt': 'Do we control our thoughts?', 'completion': 'We are aware of a tiny fraction of the thinking that goes on in our minds, and we can control only a tiny part of our conscious thoughts. The vast majority of our thinking efforts goes on subconsciously. ... Slips of the tongue and accidental actions offer glimpses of our unfiltered subconscious mental life.'}, {'prompt': 'How many thoughts a day do we have?', 'completion': \"A new study has suggested that an average person has 6,200 thoughts per day. Thousands of thoughts cross our mind through the day. Many people even complain that they can't sleep immediately after going to bed as their brain does not stop thinking.\"}, {'prompt': 'How can we reduce anxiety?', 'completion': '3 3 3 rule is the best method to reduce anxiety. In this method you have to mentally note three things you see, three sounds you hear, and then move three parts of your body. This exercise can help your mind refocus on something else.'}, {'prompt': 'I am lonely!', 'completion': \"You are never lonely if you look around carefully you will find people who care for you and would love to have your company. Besides if you are feeling lonely literally I suggest you watch a horror movie then you won't feel lonely anymore. ;)\"}, {'prompt': 'No one likes me!', 'completion': \"You really think that? I'd suggest you try helping someone who really needs your help you'll straight up get a person to like you just by being nice. Kindness is the best gift you can offer to anyone :)\"}, {'prompt': 'I think I am ugly!', 'completion': 'Well do you really think that? Would you like to see the most beautiful face ever? Open your WebCam and voila, the prettiest face on this planet magically appears.'}, {'prompt': 'I am good for nothing!', 'completion': 'Your perception of how good you are, will never be accurate. If you wake up everyday in the morning, smile to yourself and tell yourself that the day is yours to seize you might stop feeling that way. Carpe Diem! my friend.'}, {'prompt': 'I wish I was better than them', 'completion': \"Life is never about being better than anyone else, it's always about being better than yourself, if you have the guts to be better than yourself, you are automatically the best person to ever exist!\"}, {'prompt': 'I hate myself!', 'completion': 'When God was creating the universe he gave humans the power to think and the contemplate, so that we can understand the world and make it a better place. God did not give you brains to hate yourself, it wuld be wiser to love yourself and show God that you are serving the purpose for which you were sent.'}, {'prompt': \"I wish I could've been a winner\", 'completion': 'Our lives started off with winning, my friend. Everyone is born to be a winner, we just need to figure out the right way and need to wait for the right time.'}, {'prompt': 'I hate losing.', 'completion': 'First of all I\\'ll annoy you with a common saying, \"Failures are stepping stones to success.\" And then I\\'ll tell you, winning just boosts your ego, it is your failures that actually teach you.'}, {'prompt': \"I think I'm losing my mind\", 'completion': \"You mean your cloud storage, SD card, or your Memory drive? If a machine like me doesn't lose it's memory unless a superior being that is you, a human doesen't erase it's memory, what could possibly go wrong to put you in this state?\"}, {'prompt': 'I want a break', 'completion': 'A break is putting your mind to rest getting rid of negative thoughts and stress. Your life is completely in your hands and taking a few hours off from pressurizing your brain will definitely be beneficial for you.'}, {'prompt': 'I am stressed out', 'completion': \"You know taking too much stress will affect you negatively. Sometimes it's better to let go of the thoughts in your head and let your mind chill.\"}, {'prompt': 'I will never succeed in life', 'completion': 'Success is something that is achieved at different times by different people, being patient and working while ignoring anything and everything that pulls you back is an important aspect in being successful.'}, {'prompt': 'I am sad', 'completion': 'Hey,hang in there.I know time is tough but be patient and everything will fall into place. Here is a quote that I found which could cheer you up Forget what is gone, appreciate what remains, and look forward for what is coming next.'}, {'prompt': 'I am a victim of bullying', 'completion': 'Bullying is wrong and no one should be bullied. I highly recommend you to file a case against your bully.'}, {'prompt': 'I am afraid to file a case against bullying', 'completion': \"Bullying is very wrong and you shouldn't let anyone overpower you. I highly recommend you to stand for yourself and report this to your guardian.\"}, {'prompt': 'I wish to quit', 'completion': \"Winners never quit and quitters never win a very common saying, but it isn't easy to follow, quitting should never be one of your options always think of ways to fight life back and to emerge out stronger than ever.\"}, {'prompt': 'I want to leave the cou ntry and run away', 'completion': 'Why do you want to spend so much on this thought, I think it would be better to go on a vacation in your beautiful country and visit some amazing places that you are yet to visit.'}, {'prompt': 'I let everyojokne down', 'completion': 'If you are the one who let them down you were the one who raised there hopes in the first place. If you have done it once I can guarantee you can do it over and over again.'}, {'prompt': \"I can't do this anymore\", 'completion': \"If you are really that exhausted you definitely need a break, and taking a teeny tiny break isn't very harmful, take some time off let your mind be at peace and get back to work with all the enrgy and enthusiasm that you have.\"}, {'prompt': 'My time has come', 'completion': 'Yeahh!! The time has come for you to show the world that you are the greatest person alive, and no one else can be as good as you are.'}, {'prompt': 'I am feeling anxious lately.', 'completion': 'I have heard that 3 3 3 rule is the best method to reduce anxiety. In this method you have to mentally note three things you see, three sounds you hear, and then move three parts of your body. This exercise can help your mind refocus on something else. Give this method a try I am sure it will help you'}, {'prompt': 'What Is Depression?', 'completion': 'Depression is a common and serious medical illness that negatively affects how you feel, the way you think and how you act. Fortunately,it is also treatable. Depression causes feelings of sadness and/or a loss of interest in activities you once enjoyed. It can lead to a variety of emotional and physical problems and can decrease your ability to function at work and at home.'}, {'prompt': 'I feel i have let my parents down', 'completion': 'No matter what,your parents will always be proud of you and will love you. You will feel much better if you share your feelings with them.'}, {'prompt': 'What are the types of depression?', 'completion': 'There are many different forms of depression but most common types are. Clinical depression,persistent depressive disorder,bipolar disorder,postnatal disorder.'}, {'prompt': 'I am good for nothing.', 'completion': \"Don't ever think you cannot achieve what you want. You are capable of reaching your goals.Here is a quote for you Everything you can imagine is real.\"}, {'prompt': 'I am feeling stressed lately', 'completion': 'My research says that music is the best way to calm yourself. so visit the link and listen to your favourite music. it will definitely cheer you up \"https://www.spotify.com\"'}, {'prompt': 'i want to kill myself', 'completion': 'Helpline is available,you can contact the counsellor today:9152987821.Always remember you mean something to someone.'}, {'prompt': 'i am afraid i will fail again', 'completion': 'failure is the stepping stone towards success.Never fear failure. Your hardwork and determination will help you reach your goal.'}, {'prompt': 'What is Depression?', 'completion': 'Depression is a mood disorder that causes a persistent feeling of sadness and loss of interest. Also called major depressive disorder or clinical depression, it affects how you feel, think and behave and can lead to a variety of emotional and physical problems.'}, {'prompt': 'What are the causes of depression?', 'completion': \"It's complicated, and there are multiple causes of major depression. Factors such as genetic vulnerability, severe life stressors, substances you may take (some medications, drugs and alcohol) and medical conditions can affect the way your brain regulates your moods.\"}, {'prompt': 'What are the top causes of depression?', 'completion': 'Abuse. Past physical, sexual, or emotional abuse can increase the vulnerability to clinical depression later in life.'}, {'prompt': 'Which age group has the highest rate of depression?', 'completion': 'This number represented 7.1% of all U.S. adults. The prevalence of major depressive episode was higher among adult females (8.7%) compared to males (5.3%). The prevalence of adults with a major depressive episode was highest among individuals aged 18-25 (13.1%).'}, {'prompt': 'Which country has the highest rate of depression?', 'completion': 'The most depressed country is Afghanistan, where more than one in five people suffer from the disorder. The least depressed is Japan, with a diagnosed rate of less than 2.5 percent.'}, {'prompt': 'Which country has the lowest rate of depression?', 'completion': 'The most depressed country is Afghanistan, where more than one in five people suffer from the disorder. The least depressed is Japan, with a diagnosed rate of less than 2.5 percent.'}, {'prompt': 'Is school a cause of depression?', 'completion': 'Not only does school sometimes contribute to depression, depression can also interfere with school. Moreover, research shows that 75 percent of all mental health conditions begin by age 24. Hence, the college years are a critical time for understanding and talking about teen mental health.'}, {'prompt': 'What is the biological cause of depression?', 'completion': \"There is no single cause for depression; rather it's a combination of stress and a person's vulnerability to developing depression. The predisposition to developing depression can be inherited. Other biological causes for depression can include physical illness, the process of ageing and gender.\"}, {'prompt': 'How does depression affect the world?', 'completion': 'Depression is a leading cause of disability worldwide and is a major contributor to the overall global burden of disease. More women are affected by depression than men. Depression can lead to suicide. There are effective psychological and pharmacological treatments for moderate and severe depression.'}, {'prompt': 'Which race has the highest rate of depression?', 'completion': 'Major depression was most prevalent among Hispanics (10.8%), followed by African Americans (8.9%) and Whites (7.8%). The odds of depressive disorders among older Hispanics were 44% greater than among Whites (OR = 1.44; 95% CI = 1.02, 2.04), representing a significantly greater prevalence of major depression.'}, {'prompt': 'What is the meaning of anxiety and depression?', 'completion': 'Depression and anxiety disorders are different, but people with depression often experience symptoms similar to those of an anxiety disorder, such as nervousness, irritability, and problems sleeping and concentrating. But each disorder has its own causes and its own emotional and behavioral symptoms.'}, {'prompt': 'Does oversleeping cause depression?', 'completion': \"It's important to remember that oversleeping is a possible symptom of depression and that oversleeping doesn't cause depression. But it can exacerbate and worsen depression symptoms\"}, {'prompt': 'Can lack of sleep make you feel sad?', 'completion': 'Studies show people who are sleep deprived report increases in negative moods (anger, frustration, irritability, sadness) and decreases in positive moods. And sleeplessness is often a symptom of mood disorders, such as depression and anxiety.'}, {'prompt': 'Is depression a side effect of diabetes?', 'completion': \"If you have diabetes — either type 1 or type 2 — you have an increased risk of developing depression. And if you're depressed, you may have a greater chance of developing type 2 diabetes. The good news is that diabetes and depression can be treated together.\"}, {'prompt': 'Can low blood sugar cause suicidal thoughts?', 'completion': 'The observed association between plasma glucose levels, insulin resistance and suicidal behaviour suggests that disturbances in glucose metabolism are associated with suicidal ideation and attempts.'}, {'prompt': 'How long can Anxiety last?', 'completion': \"Anxiety attacks usually peak within 10 minutes, and they rarely last more than 30 minutes. But during that short time, you may experience terror so severe that you feel as if you're about to die or totally lose control.\"}, {'prompt': 'What are the stages of anxiety?', 'completion': 'Anxiety levels are typically classified by the level of distress and impairment experienced into four categories namely, mild anxiety, moderate anxiety, severe anxiety and panic level anxiety.'}, {'prompt': 'At what age does anxiety peak?', 'completion': 'Adults ages 30 to 44 have the highest rate of anxiety of this age group, with around 23% of people this age reporting an anxiety disorder within the past year.'}, {'prompt': 'Why is anxiety bad for you?', 'completion': 'Anxiety disorders can cause rapid heart rate, palpitations, and chest pain. You may also be at an increased risk of high blood pressure and heart disease. If you already have heart disease, anxiety disorders may raise the risk of coronary events.'}, {'prompt': 'What is the 3 3 3 rule for anxiety?', 'completion': \"There's an anxiety-reducing technique called grounding. There are different versions of this, but an easy one to remember is the 3-3-3 rule. Mentally note three things you see, three sounds you hear, and then move three parts of your body. This exercise can help your mind refocus on something else.\"}, {'prompt': 'Do we control our thoughts?', 'completion': 'We are aware of a tiny fraction of the thinking that goes on in our minds, and we can control only a tiny part of our conscious thoughts. The vast majority of our thinking efforts goes on subconsciously. ... Slips of the tongue and accidental actions offer glimpses of our unfiltered subconscious mental life.'}, {'prompt': 'How many thoughts a day do we have?', 'completion': \"A new study has suggested that an average person has 6,200 thoughts per day. Thousands of thoughts cross our mind through the day. Many people even complain that they can't sleep immediately after going to bed as their brain does not stop thinking.\"}, {'prompt': 'How can we reduce anxiety?', 'completion': '3 3 3 rule is the best method to reduce anxiety. In this method you have to mentally note three things you see, three sounds you hear, and then move three parts of your body. This exercise can help your mind refocus on something else.'}, {'prompt': 'I am lonely!', 'completion': \"You are never lonely if you look around carefully you will find people who care for you and would love to have your company. Besides if you are feeling lonely literally I suggest you watch a horror movie then you won't feel lonely anymore. ;)\"}, {'prompt': 'No one likes me!', 'completion': \"You really think that? I'd suggest you try helping someone who really needs your help you'll straight up get a person to like you just by being nice. Kindness is the best gift you can offer to anyone :)\"}, {'prompt': 'I think I am ugly!', 'completion': 'Well do you really think that? Would you like to see the most beautiful face ever? Open your WebCam and voila, the prettiest face on this planet magically appears.'}, {'prompt': 'I am good for nothing!', 'completion': 'Your perception of how good you are, will never be accurate. If you wake up everyday in the morning, smile to yourself and tell yourself that the day is yours to seize you might stop feeling that way. Carpe Diem! my friend.'}, {'prompt': 'I wish I was better than them', 'completion': \"Life is never about being better than anyone else, it's always about being better than yourself, if you have the guts to be better than yourself, you are automatically the best person to ever exist!\"}, {'prompt': 'I hate myself!', 'completion': 'When God was creating the universe he gave humans the power to think and the contemplate, so that we can understand the world and make it a better place. God did not give you brains to hate yourself, it wuld be wiser to love yourself and show God that you are serving the purpose for which you were sent.'}, {'prompt': \"I wish I could've been a winner\", 'completion': 'Our lives started off with winning, my friend. Everyone is born to be a winner, we just need to figure out the right way and need to wait for the right time.'}, {'prompt': 'I hate losing.', 'completion': 'First of all I\\'ll annoy you with a common saying, \"Failures are stepping stones to success.\" And then I\\'ll tell you, winning just boosts your ego, it is your failures that actually teach you.'}, {'prompt': \"I think I'm losing my mind\", 'completion': \"You mean your cloud storage, SD card, or your Memory drive? If a machine like me doesn't lose it's memory unless a superior being that is you, a human doesen't erase it's memory, what could possibly go wrong to put you in this state?\"}, {'prompt': 'I want a break', 'completion': 'A break is putting your mind to rest getting rid of negative thoughts and stress. Your life is completely in your hands and taking a few hours off from pressurizing your brain will definitely be beneficial for you.'}, {'prompt': 'I am stressed out', 'completion': \"You know taking too much stress will affect you negatively. Sometimes it's better to let go of the thoughts in your head and let your mind chill.\"}, {'prompt': 'I will never succeed in life', 'completion': 'Success is something that is achieved at different times by different people, being patient and working while ignoring anything and everything that pulls you back is an important aspect in being successful.'}, {'prompt': 'I am sad', 'completion': 'Hey,hang in there.I know time is tough but be patient and everything will fall into place. Here is a quote that I found which could cheer you up Forget what is gone, appreciate what remains, and look forward for what is coming next.'}, {'prompt': 'I am a victim of bullying', 'completion': 'Bullying is wrong and no one should be bullied. I highly recommend you to file a case against your bully.'}, {'prompt': 'I am afraid to file a case against bullying', 'completion': \"Bullying is very wrong and you shouldn't let anyone overpower you. I highly recommend you to stand for yourself and report this to your guardian.\"}, {'prompt': 'I wish to quit', 'completion': \"Winners never quit and quitters never win a very common saying, but it isn't easy to follow, quitting should never be one of your options always think of ways to fight life back and to emerge out stronger than ever.\"}, {'prompt': 'I want to leave the cou ntry and run away', 'completion': 'Why do you want to spend so much on this thought, I think it would be better to go on a vacation in your beautiful country and visit some amazing places that you are yet to visit.'}, {'prompt': 'I let everyojokne down', 'completion': 'If you are the one who let them down you were the one who raised there hopes in the first place. If you have done it once I can guarantee you can do it over and over again.'}, {'prompt': \"I can't do this anymore\", 'completion': \"If you are really that exhausted you definitely need a break, and taking a teeny tiny break isn't very harmful, take some time off let your mind be at peace and get back to work with all the enrgy and enthusiasm that you have.\"}, {'prompt': 'My time has come', 'completion': 'Yeahh!! The time has come for you to show the world that you are the greatest person alive, and no one else can be as good as you are.'}, {'prompt': 'I am feeling anxious lately.', 'completion': 'I have heard that 3 3 3 rule is the best method to reduce anxiety. In this method you have to mentally note three things you see, three sounds you hear, and then move three parts of your body. This exercise can help your mind refocus on something else. Give this method a try I am sure it will help you'}, {'prompt': 'What Is Depression?', 'completion': 'Depression is a common and serious medical illness that negatively affects how you feel, the way you think and how you act. Fortunately,it is also treatable. Depression causes feelings of sadness and/or a loss of interest in activities you once enjoyed. It can lead to a variety of emotional and physical problems and can decrease your ability to function at work and at home.'}, {'prompt': 'I feel i have let my parents down', 'completion': 'No matter what,your parents will always be proud of you and will love you. You will feel much better if you share your feelings with them.'}, {'prompt': 'What are the types of depression?', 'completion': 'There are many different forms of depression but most common types are. Clinical depression,persistent depressive disorder,bipolar disorder,postnatal disorder.'}, {'prompt': 'I am good for nothing.', 'completion': \"Don't ever think you cannot achieve what you want. You are capable of reaching your goals.Here is a quote for you Everything you can imagine is real.\"}, {'prompt': 'I am feeling stressed lately', 'completion': 'My research says that music is the best way to calm yourself. so visit the link and listen to your favourite music. it will definitely cheer you up \"https://www.spotify.com\"'}, {'prompt': 'i want to kill myself', 'completion': 'Helpline is available,you can contact the counsellor today:9152987821.Always remember you mean something to someone.'}, {'prompt': 'i am afraid i will fail again', 'completion': 'failure is the stepping stone towards success.Never fear failure. Your hardwork and determination will help you reach your goal.'}, {'prompt': 'What is Depression?', 'completion': 'Depression is a mood disorder that causes a persistent feeling of sadness and loss of interest. Also called major depressive disorder or clinical depression, it affects how you feel, think and behave and can lead to a variety of emotional and physical problems.'}, {'prompt': 'What are the causes of depression?', 'completion': \"It's complicated, and there are multiple causes of major depression. Factors such as genetic vulnerability, severe life stressors, substances you may take (some medications, drugs and alcohol) and medical conditions can affect the way your brain regulates your moods.\"}, {'prompt': 'What are the top causes of depression?', 'completion': 'Abuse. Past physical, sexual, or emotional abuse can increase the vulnerability to clinical depression later in life.'}, {'prompt': 'Which age group has the highest rate of depression?', 'completion': 'This number represented 7.1% of all U.S. adults. The prevalence of major depressive episode was higher among adult females (8.7%) compared to males (5.3%). The prevalence of adults with a major depressive episode was highest among individuals aged 18-25 (13.1%).'}, {'prompt': 'Which country has the highest rate of depression?', 'completion': 'The most depressed country is Afghanistan, where more than one in five people suffer from the disorder. The least depressed is Japan, with a diagnosed rate of less than 2.5 percent.'}, {'prompt': 'Which country has the lowest rate of depression?', 'completion': 'The most depressed country is Afghanistan, where more than one in five people suffer from the disorder. The least depressed is Japan, with a diagnosed rate of less than 2.5 percent.'}, {'prompt': 'Is school a cause of depression?', 'completion': 'Not only does school sometimes contribute to depression, depression can also interfere with school. Moreover, research shows that 75 percent of all mental health conditions begin by age 24. Hence, the college years are a critical time for understanding and talking about teen mental health.'}, {'prompt': 'What is the biological cause of depression?', 'completion': \"There is no single cause for depression; rather it's a combination of stress and a person's vulnerability to developing depression. The predisposition to developing depression can be inherited. Other biological causes for depression can include physical illness, the process of ageing and gender.\"}, {'prompt': 'How does depression affect the world?', 'completion': 'Depression is a leading cause of disability worldwide and is a major contributor to the overall global burden of disease. More women are affected by depression than men. Depression can lead to suicide. There are effective psychological and pharmacological treatments for moderate and severe depression.'}, {'prompt': 'Which race has the highest rate of depression?', 'completion': 'Major depression was most prevalent among Hispanics (10.8%), followed by African Americans (8.9%) and Whites (7.8%). The odds of depressive disorders among older Hispanics were 44% greater than among Whites (OR = 1.44; 95% CI = 1.02, 2.04), representing a significantly greater prevalence of major depression.'}, {'prompt': 'What is the meaning of anxiety and depression?', 'completion': 'Depression and anxiety disorders are different, but people with depression often experience symptoms similar to those of an anxiety disorder, such as nervousness, irritability, and problems sleeping and concentrating. But each disorder has its own causes and its own emotional and behavioral symptoms.'}, {'prompt': 'Does oversleeping cause depression?', 'completion': \"It's important to remember that oversleeping is a possible symptom of depression and that oversleeping doesn't cause depression. But it can exacerbate and worsen depression symptoms\"}, {'prompt': 'Can lack of sleep make you feel sad?', 'completion': 'Studies show people who are sleep deprived report increases in negative moods (anger, frustration, irritability, sadness) and decreases in positive moods. And sleeplessness is often a symptom of mood disorders, such as depression and anxiety.'}, {'prompt': 'Is depression a side effect of diabetes?', 'completion': \"If you have diabetes — either type 1 or type 2 — you have an increased risk of developing depression. And if you're depressed, you may have a greater chance of developing type 2 diabetes. The good news is that diabetes and depression can be treated together.\"}, {'prompt': 'Can low blood sugar cause suicidal thoughts?', 'completion': 'The observed association between plasma glucose levels, insulin resistance and suicidal behaviour suggests that disturbances in glucose metabolism are associated with suicidal ideation and attempts.'}, {'prompt': 'How long can Anxiety last?', 'completion': \"Anxiety attacks usually peak within 10 minutes, and they rarely last more than 30 minutes. But during that short time, you may experience terror so severe that you feel as if you're about to die or totally lose control.\"}, {'prompt': 'What are the stages of anxiety?', 'completion': 'Anxiety levels are typically classified by the level of distress and impairment experienced into four categories namely, mild anxiety, moderate anxiety, severe anxiety and panic level anxiety.'}, {'prompt': 'At what age does anxiety peak?', 'completion': 'Adults ages 30 to 44 have the highest rate of anxiety of this age group, with around 23% of people this age reporting an anxiety disorder within the past year.'}, {'prompt': 'Why is anxiety bad for you?', 'completion': 'Anxiety disorders can cause rapid heart rate, palpitations, and chest pain. You may also be at an increased risk of high blood pressure and heart disease. If you already have heart disease, anxiety disorders may raise the risk of coronary events.'}, {'prompt': 'What is the 3 3 3 rule for anxiety?', 'completion': \"There's an anxiety-reducing technique called grounding. There are different versions of this, but an easy one to remember is the 3-3-3 rule. Mentally note three things you see, three sounds you hear, and then move three parts of your body. This exercise can help your mind refocus on something else.\"}, {'prompt': 'Do we control our thoughts?', 'completion': 'We are aware of a tiny fraction of the thinking that goes on in our minds, and we can control only a tiny part of our conscious thoughts. The vast majority of our thinking efforts goes on subconsciously. ... Slips of the tongue and accidental actions offer glimpses of our unfiltered subconscious mental life.'}, {'prompt': 'How many thoughts a day do we have?', 'completion': \"A new study has suggested that an average person has 6,200 thoughts per day. Thousands of thoughts cross our mind through the day. Many people even complain that they can't sleep immediately after going to bed as their brain does not stop thinking.\"}, {'prompt': 'How can we reduce anxiety?', 'completion': '3 3 3 rule is the best method to reduce anxiety. In this method you have to mentally note three things you see, three sounds you hear, and then move three parts of your body. This exercise can help your mind refocus on something else.'}, {'prompt': 'I am lonely!', 'completion': \"You are never lonely if you look around carefully you will find people who care for you and would love to have your company. Besides if you are feeling lonely literally I suggest you watch a horror movie then you won't feel lonely anymore. ;)\"}, {'prompt': 'No one likes me!', 'completion': \"You really think that? I'd suggest you try helping someone who really needs your help you'll straight up get a person to like you just by being nice. Kindness is the best gift you can offer to anyone :)\"}, {'prompt': 'I think I am ugly!', 'completion': 'Well do you really think that? Would you like to see the most beautiful face ever? Open your WebCam and voila, the prettiest face on this planet magically appears.'}, {'prompt': 'I am good for nothing!', 'completion': 'Your perception of how good you are, will never be accurate. If you wake up everyday in the morning, smile to yourself and tell yourself that the day is yours to seize you might stop feeling that way. Carpe Diem! my friend.'}, {'prompt': 'I wish I was better than them', 'completion': \"Life is never about being better than anyone else, it's always about being better than yourself, if you have the guts to be better than yourself, you are automatically the best person to ever exist!\"}, {'prompt': 'I hate myself!', 'completion': 'When God was creating the universe he gave humans the power to think and the contemplate, so that we can understand the world and make it a better place. God did not give you brains to hate yourself, it wuld be wiser to love yourself and show God that you are serving the purpose for which you were sent.'}, {'prompt': \"I wish I could've been a winner\", 'completion': 'Our lives started off with winning, my friend. Everyone is born to be a winner, we just need to figure out the right way and need to wait for the right time.'}, {'prompt': 'I hate losing.', 'completion': 'First of all I\\'ll annoy you with a common saying, \"Failures are stepping stones to success.\" And then I\\'ll tell you, winning just boosts your ego, it is your failures that actually teach you.'}, {'prompt': \"I think I'm losing my mind\", 'completion': \"You mean your cloud storage, SD card, or your Memory drive? If a machine like me doesn't lose it's memory unless a superior being that is you, a human doesen't erase it's memory, what could possibly go wrong to put you in this state?\"}, {'prompt': 'I want a break', 'completion': 'A break is putting your mind to rest getting rid of negative thoughts and stress. Your life is completely in your hands and taking a few hours off from pressurizing your brain will definitely be beneficial for you.'}, {'prompt': 'I am stressed out', 'completion': \"You know taking too much stress will affect you negatively. Sometimes it's better to let go of the thoughts in your head and let your mind chill.\"}, {'prompt': 'I will never succeed in life', 'completion': 'Success is something that is achieved at different times by different people, being patient and working while ignoring anything and everything that pulls you back is an important aspect in being successful.'}, {'prompt': 'I am sad', 'completion': 'Hey,hang in there.I know time is tough but be patient and everything will fall into place. Here is a quote that I found which could cheer you up Forget what is gone, appreciate what remains, and look forward for what is coming next.'}, {'prompt': 'I am a victim of bullying', 'completion': 'Bullying is wrong and no one should be bullied. I highly recommend you to file a case against your bully.'}, {'prompt': 'I am afraid to file a case against bullying', 'completion': \"Bullying is very wrong and you shouldn't let anyone overpower you. I highly recommend you to stand for yourself and report this to your guardian.\"}, {'prompt': 'I wish to quit', 'completion': \"Winners never quit and quitters never win a very common saying, but it isn't easy to follow, quitting should never be one of your options always think of ways to fight life back and to emerge out stronger than ever.\"}, {'prompt': 'I want to leave the cou ntry and run away', 'completion': 'Why do you want to spend so much on this thought, I think it would be better to go on a vacation in your beautiful country and visit some amazing places that you are yet to visit.'}, {'prompt': 'I let everyojokne down', 'completion': 'If you are the one who let them down you were the one who raised there hopes in the first place. If you have done it once I can guarantee you can do it over and over again.'}, {'prompt': \"I can't do this anymore\", 'completion': \"If you are really that exhausted you definitely need a break, and taking a teeny tiny break isn't very harmful, take some time off let your mind be at peace and get back to work with all the enrgy and enthusiasm that you have.\"}, {'prompt': 'My time has come', 'completion': 'Yeahh!! The time has come for you to show the world that you are the greatest person alive, and no one else can be as good as you are.'}, {'prompt': 'I am feeling anxious lately.', 'completion': 'I have heard that 3 3 3 rule is the best method to reduce anxiety. In this method you have to mentally note three things you see, three sounds you hear, and then move three parts of your body. This exercise can help your mind refocus on something else. Give this method a try I am sure it will help you'}]\n"
          ]
        }
      ]
    },
    {
      "cell_type": "code",
      "source": [
        "from google.colab import files"
      ],
      "metadata": {
        "id": "ijmYBGaTVqGD"
      },
      "execution_count": null,
      "outputs": []
    },
    {
      "cell_type": "code",
      "source": [
        "#Here we convert our output which was a list of dictionaries into a jsonl file\n",
        "with open('depression-d.jsonl', 'w') as outfile:\n",
        "        for i in output:\n",
        "            json.dump(i, outfile)\n",
        "            outfile.write('\\n')\n",
        "\n",
        "\n",
        "files.download('depression-d.jsonl')\n"
      ],
      "metadata": {
        "id": "ETdV0OyYPFYZ",
        "colab": {
          "base_uri": "https://localhost:8080/",
          "height": 17
        },
        "outputId": "42768926-5c35-4b6f-be85-81be0a51ef4f"
      },
      "execution_count": null,
      "outputs": [
        {
          "output_type": "display_data",
          "data": {
            "text/plain": [
              "<IPython.core.display.Javascript object>"
            ],
            "application/javascript": [
              "\n",
              "    async function download(id, filename, size) {\n",
              "      if (!google.colab.kernel.accessAllowed) {\n",
              "        return;\n",
              "      }\n",
              "      const div = document.createElement('div');\n",
              "      const label = document.createElement('label');\n",
              "      label.textContent = `Downloading \"${filename}\": `;\n",
              "      div.appendChild(label);\n",
              "      const progress = document.createElement('progress');\n",
              "      progress.max = size;\n",
              "      div.appendChild(progress);\n",
              "      document.body.appendChild(div);\n",
              "\n",
              "      const buffers = [];\n",
              "      let downloaded = 0;\n",
              "\n",
              "      const channel = await google.colab.kernel.comms.open(id);\n",
              "      // Send a message to notify the kernel that we're ready.\n",
              "      channel.send({})\n",
              "\n",
              "      for await (const message of channel.messages) {\n",
              "        // Send a message to notify the kernel that we're ready.\n",
              "        channel.send({})\n",
              "        if (message.buffers) {\n",
              "          for (const buffer of message.buffers) {\n",
              "            buffers.push(buffer);\n",
              "            downloaded += buffer.byteLength;\n",
              "            progress.value = downloaded;\n",
              "          }\n",
              "        }\n",
              "      }\n",
              "      const blob = new Blob(buffers, {type: 'application/binary'});\n",
              "      const a = document.createElement('a');\n",
              "      a.href = window.URL.createObjectURL(blob);\n",
              "      a.download = filename;\n",
              "      div.appendChild(a);\n",
              "      a.click();\n",
              "      div.remove();\n",
              "    }\n",
              "  "
            ]
          },
          "metadata": {}
        },
        {
          "output_type": "display_data",
          "data": {
            "text/plain": [
              "<IPython.core.display.Javascript object>"
            ],
            "application/javascript": [
              "download(\"download_f40644bb-9f85-4006-a5f5-23e2d4755a6b\", \"depression-d.jsonl\", 42471)"
            ]
          },
          "metadata": {}
        }
      ]
    },
    {
      "cell_type": "code",
      "source": [
        "!pip install openai"
      ],
      "metadata": {
        "id": "2auTioYVSImG"
      },
      "execution_count": null,
      "outputs": []
    },
    {
      "cell_type": "markdown",
      "source": [
        "# **Here we prepare our data for fine tuining**"
      ],
      "metadata": {
        "id": "8F6tP5lTxdJZ"
      }
    },
    {
      "cell_type": "code",
      "source": [
        "!openai tools fine_tunes.prepare_data -f depression-d.jsonl\n",
        "\n"
      ],
      "metadata": {
        "id": "i6I6uIECROn7"
      },
      "execution_count": null,
      "outputs": []
    },
    {
      "cell_type": "code",
      "source": [
        "os.environ['OPENAI_API_KEY'] = '#ENTER YOUR API KEY HERE'"
      ],
      "metadata": {
        "id": "oV2vabvCXHxy"
      },
      "execution_count": null,
      "outputs": []
    },
    {
      "cell_type": "code",
      "source": [
        "!set OPENAI_API_KEY=<YOUR-API-KEY>"
      ],
      "metadata": {
        "id": "FgO1egbbsXT7"
      },
      "execution_count": null,
      "outputs": []
    },
    {
      "cell_type": "markdown",
      "source": [
        "## **Here we finel tune our model using the text-curie-001 model**"
      ],
      "metadata": {
        "id": "1SzJZmFryx1r"
      }
    },
    {
      "cell_type": "code",
      "source": [
        "!openai api fine_tunes.create -t \"depression-d_prepared.jsonl\" -m text-curie-001"
      ],
      "metadata": {
        "id": "epglrlaFTjtY"
      },
      "execution_count": null,
      "outputs": []
    },
    {
      "cell_type": "code",
      "source": [
        "#Here basically we test our trained model\n",
        "import os\n",
        "import openai\n",
        "\n",
        "openai.api_key = os.getenv(\"OPENAI_API_KEY\")\n",
        "\n",
        "query = input(\"Give your query:\")\n",
        "\n",
        "response = openai.Completion.create(\n",
        "                model=\"text-curie-001\",\n",
        "                prompt=\"The following is a conversation with a therapist and a user. The therapist is JOY, who uses compassionate listening to have helpful and meaningful conversations with users. JOY is empathic and friendly. JOY's objective is to make the user feel better by feeling heard. With each response, JOY offers follow-up questions to encourage openness and tries to continue the conversation in a natural way. \\n\\nJOY-> Hello, I am your personal mental health assistant. What's on your mind today?\\nUser->\"+query+\"JOY->\",\n",
        "                temperature=0.89,\n",
        "                max_tokens=162,\n",
        "                top_p=1,\n",
        "                frequency_penalty=0,\n",
        "                presence_penalty=0.6,\n",
        "                stop=[\"\\n\"]\n",
        "  )\n",
        "print(response)"
      ],
      "metadata": {
        "id": "NS1IRkd_Tlew"
      },
      "execution_count": null,
      "outputs": []
    },
    {
      "cell_type": "code",
      "source": [],
      "metadata": {
        "id": "odw3HUM2rmmw"
      },
      "execution_count": null,
      "outputs": []
    }
  ]
}