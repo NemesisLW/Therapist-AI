{
 "cells": [
  {
   "cell_type": "code",
   "execution_count": 12,
   "id": "0625d1eb",
   "metadata": {},
   "outputs": [],
   "source": [
    "import spacy\n",
    "from spacy.util import minibatch\n",
    "from spacy.training.example import Example\n",
    "\n",
    "nlp = spacy.blank('en')\n",
    "textcat = nlp.add_pipe('textcat')\n",
    "textcat.add_label('TRAUMA')\n",
    "textcat.add_label('DEPRESSION')\n",
    "train_data = [\n",
    "    ('I had a traumatic experience in my childhood', {'cats': {'TRAUMA': 1, 'DEPRESSION': 0}}),\n",
    "    ('I feel depressed and unmotivated', {'cats': {'TRAUMA': 0, 'DEPRESSION': 1}}),\n",
    "    ('My anxiety has been causing me a lot of distress', {'cats': {'TRAUMA': 0, 'DEPRESSION': 0}}),\n",
    "    ('I am having trouble sleeping and nightmares', {'cats': {'TRAUMA': 1, 'DEPRESSION': 0}}),\n",
    "    ('I am feeling hopeless and sad all the time', {'cats': {'TRAUMA': 0, 'DEPRESSION': 1}}),\n",
    "    ('I was in a car accident and it has been affecting my mental health', {'cats': {'TRAUMA': 1, 'DEPRESSION': 0}}),\n",
    "    ('I am struggling with feelings of guilt and shame', {'cats': {'TRAUMA': 0, 'DEPRESSION': 1}}),\n",
    "    ('I am experiencing flashbacks and intrusive thoughts', {'cats': {'TRAUMA': 1, 'DEPRESSION': 0}}),\n",
    "    ('I am not enjoying things that used to bring me pleasure', {'cats': {'TRAUMA': 0, 'DEPRESSION': 1}}),\n",
    "    ('I feel like my emotions are out of control', {'cats': {'TRAUMA': 0, 'DEPRESSION': 1}})\n",
    "]\n",
    "\n",
    "spacy.util.fix_random_seed(1)\n",
    "optimizer = nlp.begin_training()\n",
    "batches = minibatch(train_data, size=2)\n",
    "for batch in batches:\n",
    "    for text, labels in batch:\n",
    "        doc = nlp.make_doc(text)\n",
    "        example = Example.from_dict(doc, labels)\n",
    "        nlp.update([example], sgd=optimizer)\n"
   ]
  },
  {
   "cell_type": "code",
   "execution_count": 13,
   "id": "61cb81ed",
   "metadata": {},
   "outputs": [
    {
     "name": "stdout",
     "output_type": "stream",
     "text": [
      "I had a really bad car accident and I can't stop thinking about it\n",
      "Predicted label: TRAUMA\n",
      "I feel like I'm stuck in a rut and I don't know how to get out\n",
      "Predicted label: TRAUMA\n",
      "I'm having trouble sleeping and I don't know why\n",
      "Predicted label: TRAUMA\n",
      "I feel depressed\n",
      "Predicted label: DEPRESSION\n"
     ]
    }
   ],
   "source": [
    "test_texts = [\n",
    "    'I had a really bad car accident and I can\\'t stop thinking about it',\n",
    "    'I feel like I\\'m stuck in a rut and I don\\'t know how to get out',\n",
    "    'I\\'m having trouble sleeping and I don\\'t know why',\n",
    "    'I feel depressed'\n",
    "]\n",
    "for text in test_texts:\n",
    "    doc = nlp(text)\n",
    "    label_scores = doc.cats\n",
    "    if label_scores['TRAUMA'] > label_scores['DEPRESSION']:\n",
    "        print(text)\n",
    "        print('Predicted label: TRAUMA')\n",
    "    else:\n",
    "        print(text)\n",
    "        print('Predicted label: DEPRESSION')\n",
    "\n"
   ]
  },
  {
   "cell_type": "code",
   "execution_count": null,
   "id": "4c58e61a",
   "metadata": {},
   "outputs": [],
   "source": []
  },
  {
   "cell_type": "code",
   "execution_count": null,
   "id": "718dcfe9",
   "metadata": {},
   "outputs": [],
   "source": []
  },
  {
   "cell_type": "code",
   "execution_count": null,
   "id": "a0acffea",
   "metadata": {},
   "outputs": [],
   "source": []
  }
 ],
 "metadata": {
  "kernelspec": {
   "display_name": "Python 3 (ipykernel)",
   "language": "python",
   "name": "python3"
  },
  "language_info": {
   "codemirror_mode": {
    "name": "ipython",
    "version": 3
   },
   "file_extension": ".py",
   "mimetype": "text/x-python",
   "name": "python",
   "nbconvert_exporter": "python",
   "pygments_lexer": "ipython3",
   "version": "3.9.6"
  }
 },
 "nbformat": 4,
 "nbformat_minor": 5
}
