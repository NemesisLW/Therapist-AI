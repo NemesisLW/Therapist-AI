{
  "nbformat": 4,
  "nbformat_minor": 0,
  "metadata": {
    "colab": {
      "provenance": []
    },
    "kernelspec": {
      "name": "python3",
      "display_name": "Python 3"
    },
    "language_info": {
      "name": "python"
    }
  },
  "cells": [
    {
      "cell_type": "markdown",
      "source": [
        "# Installing OpenAI"
      ],
      "metadata": {
        "id": "hM9KwPWcHTfZ"
      }
    },
    {
      "cell_type": "code",
      "execution_count": null,
      "metadata": {
        "colab": {
          "base_uri": "https://localhost:8080/"
        },
        "id": "sdHw4222cTme",
        "outputId": "d3bb45e5-9e16-4c65-eb43-a6affb10e7bf"
      },
      "outputs": [
        {
          "output_type": "stream",
          "name": "stdout",
          "text": [
            "Looking in indexes: https://pypi.org/simple, https://us-python.pkg.dev/colab-wheels/public/simple/\n",
            "Collecting openai\n",
            "  Downloading openai-0.27.2-py3-none-any.whl (70 kB)\n",
            "\u001b[2K     \u001b[90m━━━━━━━━━━━━━━━━━━━━━━━━━━━━━━━━━━━━━━━━\u001b[0m \u001b[32m70.1/70.1 KB\u001b[0m \u001b[31m2.0 MB/s\u001b[0m eta \u001b[36m0:00:00\u001b[0m\n",
            "\u001b[?25hRequirement already satisfied: requests>=2.20 in /usr/local/lib/python3.9/dist-packages (from openai) (2.27.1)\n",
            "Requirement already satisfied: tqdm in /usr/local/lib/python3.9/dist-packages (from openai) (4.65.0)\n",
            "Collecting aiohttp\n",
            "  Downloading aiohttp-3.8.4-cp39-cp39-manylinux_2_17_x86_64.manylinux2014_x86_64.whl (1.0 MB)\n",
            "\u001b[2K     \u001b[90m━━━━━━━━━━━━━━━━━━━━━━━━━━━━━━━━━━━━━━━━\u001b[0m \u001b[32m1.0/1.0 MB\u001b[0m \u001b[31m12.8 MB/s\u001b[0m eta \u001b[36m0:00:00\u001b[0m\n",
            "\u001b[?25hRequirement already satisfied: certifi>=2017.4.17 in /usr/local/lib/python3.9/dist-packages (from requests>=2.20->openai) (2022.12.7)\n",
            "Requirement already satisfied: urllib3<1.27,>=1.21.1 in /usr/local/lib/python3.9/dist-packages (from requests>=2.20->openai) (1.26.15)\n",
            "Requirement already satisfied: idna<4,>=2.5 in /usr/local/lib/python3.9/dist-packages (from requests>=2.20->openai) (3.4)\n",
            "Requirement already satisfied: charset-normalizer~=2.0.0 in /usr/local/lib/python3.9/dist-packages (from requests>=2.20->openai) (2.0.12)\n",
            "Collecting yarl<2.0,>=1.0\n",
            "  Downloading yarl-1.8.2-cp39-cp39-manylinux_2_17_x86_64.manylinux2014_x86_64.whl (264 kB)\n",
            "\u001b[2K     \u001b[90m━━━━━━━━━━━━━━━━━━━━━━━━━━━━━━━━━━━━━━━\u001b[0m \u001b[32m264.6/264.6 KB\u001b[0m \u001b[31m7.9 MB/s\u001b[0m eta \u001b[36m0:00:00\u001b[0m\n",
            "\u001b[?25hCollecting frozenlist>=1.1.1\n",
            "  Downloading frozenlist-1.3.3-cp39-cp39-manylinux_2_5_x86_64.manylinux1_x86_64.manylinux_2_17_x86_64.manylinux2014_x86_64.whl (158 kB)\n",
            "\u001b[2K     \u001b[90m━━━━━━━━━━━━━━━━━━━━━━━━━━━━━━━━━━━━━━━\u001b[0m \u001b[32m158.8/158.8 KB\u001b[0m \u001b[31m8.4 MB/s\u001b[0m eta \u001b[36m0:00:00\u001b[0m\n",
            "\u001b[?25hCollecting aiosignal>=1.1.2\n",
            "  Downloading aiosignal-1.3.1-py3-none-any.whl (7.6 kB)\n",
            "Collecting async-timeout<5.0,>=4.0.0a3\n",
            "  Downloading async_timeout-4.0.2-py3-none-any.whl (5.8 kB)\n",
            "Requirement already satisfied: attrs>=17.3.0 in /usr/local/lib/python3.9/dist-packages (from aiohttp->openai) (22.2.0)\n",
            "Collecting multidict<7.0,>=4.5\n",
            "  Downloading multidict-6.0.4-cp39-cp39-manylinux_2_17_x86_64.manylinux2014_x86_64.whl (114 kB)\n",
            "\u001b[2K     \u001b[90m━━━━━━━━━━━━━━━━━━━━━━━━━━━━━━━━━━━━━━━\u001b[0m \u001b[32m114.2/114.2 KB\u001b[0m \u001b[31m3.6 MB/s\u001b[0m eta \u001b[36m0:00:00\u001b[0m\n",
            "\u001b[?25hInstalling collected packages: multidict, frozenlist, async-timeout, yarl, aiosignal, aiohttp, openai\n",
            "Successfully installed aiohttp-3.8.4 aiosignal-1.3.1 async-timeout-4.0.2 frozenlist-1.3.3 multidict-6.0.4 openai-0.27.2 yarl-1.8.2\n"
          ]
        }
      ],
      "source": [
        "!pip install --upgrade openai"
      ]
    },
    {
      "cell_type": "code",
      "source": [
        "import json\n",
        "import openai"
      ],
      "metadata": {
        "id": "CA9GE8TsgO6B"
      },
      "execution_count": null,
      "outputs": []
    },
    {
      "cell_type": "markdown",
      "source": [
        "# OpenAI API key"
      ],
      "metadata": {
        "id": "txVs51qCHnH_"
      }
    },
    {
      "cell_type": "code",
      "source": [
        "API_KEY=\"\"\n",
        "openai.api_key = API_KEY"
      ],
      "metadata": {
        "id": "67O7lEtIcY4L"
      },
      "execution_count": null,
      "outputs": []
    },
    {
      "cell_type": "markdown",
      "source": [
        "# Sample Training Data - Proxy \n",
        "\n"
      ],
      "metadata": {
        "id": "WACJGyV9H6JB"
      }
    },
    {
      "cell_type": "code",
      "source": [
        "training_data = [{\n",
        "    \"prompt\": \"Can I change my feeling of being worthless to everyone?-I'm going through some things with my feelings and myself. I barely sleep and I do nothing but think about how I'm worthless and how I shouldn't be here.I have never tried or contemplated suicide. I have always wanted to fix my issues, but I never get around to it.How can I change my feeling of being worthless to everyone?\",\n",
        "    \"completion\": \" If everyone thinks you're worthless, then maybe you need to find new people to hang out with.Seriously, the social context in which a person lives is a big influence in self-esteem.Otherwise, you can go round and round trying to understand why you're not worthless, then go back to the same crowd and be knocked down again.There are many inspirational messages you can find in social media.  Maybe read some of the ones which state that no person is worthless, and that everyone has a good purpose to their life.Also, since our culture is so saturated with the belief that if someone doesn't feel good about themselves that this is somehow terrible.Bad feelings are part of living.  They are the motivation to remove ourselves from situations and relationships which do us more harm than good.Bad feelings do feel terrible.   Your feeling of worthlessness may be good in the sense of motivating you to find out that you are much better than your feelings today.\\n\"\n",
        "},{\n",
        "    \"prompt\":\"How do I find out the cause of my depression and anxiety?-I have been feeling more and more down for over a month. I have started having trouble sleeping due to panic attacks, but they are almost never triggered by something that I know of.\",\n",
        "    \"completion\": \" Answers about our inner lives are most successfully reached from a sense of feeling grounded in oneself.First step is to accept your nervousness and restless sleep.  As often as possible, sleep during daytimes in order for your body to catch up on its need for rest.Accept too about feeling down.  It is normal to feel down once in a while.  From this place of self-acceptance, trust any answers which come up to your mind.  Often answers about complicated topics come in small pieces, not all at once as a whole unit.Also, your description about panic attacks is also completely normal.   They often arise unrelated to particular conditions at a given moment.  They are a healthy symptom your body is trying to expel bad feelings and does this by having the anxiety erupt at times.So, self-acceptance, tolerance of being on a process of clearing out worn out emotional clutter, and sleep at odd times if possible, are all ways to stabilize yourself, which will also feel calm and good!\\n\"\n",
        "},{\n",
        "    \"prompt\":\"How do I find out the cause of my depression and anxiety?-I have been feeling more and more down for over a month. I have started having trouble sleeping due to panic attacks, but they are almost never triggered by something that I know of.\",\n",
        "    \"completion\": \"Answers about our inner lives are most successfully reached from a sense of feeling grounded in oneself.First step is to accept your nervousness and restless sleep.  As often as possible, sleep during daytimes in order for your body to catch up on its need for rest.Accept too about feeling down.  It is normal to feel down once in a while.  From this place of self-acceptance, trust any answers which come up to your mind.  Often answers about complicated topics come in small pieces, not all at once as a whole unit.Also, your description about panic attacks is also completely normal.   They often arise unrelated to particular conditions at a given moment.  They are a healthy symptom your body is trying to expel bad feelings and does this by having the anxiety erupt at times.So, self-acceptance, tolerance of being on a process of clearing out worn out emotional clutter, and sleep at odd times if possible, are all ways to stabilize yourself, which will also feel calm and good!\\n\"\n",
        "},{\n",
        "    \"prompt\":\"How do I overcome my anxierty and depression?-I’m facing severe depression and anxiety and I just feel like I’m going through a lot. This really distracts me and I cant get my mind off the things that are bothering me.    How do I overcome this anxierty and depression?\",\n",
        "    \"completion\": \"Anxiety and depression are often linked. I don't consider them as diseases. Depression is a symptom of deep hurts to the sense of self that leaves a person feeling shamed. Anxiety is a symptom of not being given the proper emotional resources to handle the problems of life. It is also the result of being taught that life is a dangerous place that can't be managed.\\n\"\n",
        "},{\n",
        "    \"prompt\":\"How can I deal with depression stemming from chronic pain?-I have a severe back problem. I've had 3 major and several minor operations, but I'm still in constant pain. How can I deal with the depression from this chronic pain?\",\n",
        "    \"completion\": \"Chronic pain at the back likely results from a few areas:L4-L5 kidney zone, most likely (lower back);Bone spurs, fused discs, and slipped discs, caused by connective tissue weakness, and calcium deposits used to neutralize highly acidic areas...The 'depression' will evaporate when the chronic pain is drained out, through natural means;Pharmaceutical means will simply extend the pain and cause it to deepen over time, not solving the problem;Remember, medical doctors suppress, natural doctors cure...\\n\"\n",
        "},{\n",
        "    \"prompt\":\"How can I get counseling if my primary care physician won't help?-I suffer from adult ADHD, anxiety disorder, and depression. It has been difficult to find a doctor in my area and my primary physician won't help. I am unemployed and overwhelmed. What would you suggest I do?\",\n",
        "    \"completion\": \"If it is simply counseling that you seek, any number of faith-based outfits are very willing to listen and help out with these sorts of matters, free of charge :)Online messaging and social media is a secondary option, however this one may come with privacy concerns and consequences;If it were I, I would attempt to sweet-talk one or two counselors I come across to do a bit of work for folks who can't afford it :)\\n\"\n",
        "},{\n",
        "    \"prompt\":\"How do depression and PMS symptoms contribute to one another and what can I do about it?-I struggle with depression as well as pretty intense mood swings throughout the month. I experience highs where I feel amazing and energetic and then lows where I lack focus, energy, and generally have a more dark outlook on my life. How can I live a more balanced life?\",\n",
        "    \"completion\": \"It's fun to ride the roller coaster from time to time, isn't it? :)But, it's also weary-making, and leads to drainage that no man or woman can hardly anticipate!Balance comes with proper understanding of the different bodies you possess and how they function.And, to begin, we focus upon your physical, and move right up the latter to the spiritual, and begin cleaning you out.Unbalance is an experience of blocked energies that should be naturally flowing (call them what thou mayest); when blockages are removed, what is naturally there flows, and flows beautifully...\\n\"\n",
        "},{\n",
        "    \"prompt\":\"My apartment manager won't let me keep an emotional support dog-I have been diagnosed with general anxiety and depression by my family doctor. They wrote a prescription for me to have an emotional support dog, I have the paper work, and I gave it to my apartment manager. They said I can't keep the ESD because I'm not disabled. What do you suggest I do?\",\n",
        "    \"completion\": \"This can be a difficult situation.  Typically, only animals that are specifically trains to accomplish a specific task are legally protected as Service Animsls. Even though that can be very helpful, emotional support animals are not generally protected in the same way.You might not be able to make your landlord accommodate you. If possible, you may want to consider a different apparent that is more animal friendly.\\n\"\n",
        "},{\n",
        "    \"prompt\":\"How can I get my husband to listen to my needs and talk to me?-I tried telling my husband I was depressed, and he ignored me. He said ,you are always sad or depressed. And he picked up his phone and ignored me. I said, Please do not exaggerate, that is not true. And he said, Whatever babe. You just want to be sad.How can I get through to him so he will take me seriously?\",\n",
        "    \"completion\": \" This is so hard. It is hard for someone to understand what depression is without having experienced it themselves. Unfortunately people without depression sometimes mistake it as feeling sorry for ourselves or just moping around, which is not what depression is at all. Sometimes I think that it is easier for family members to see it as a choice than to admit that someone they love is hurting and they dont know what to do. If  he is willing, I wonder if there may be a depression support group in your area such as NAMI or DBSA where he could hear from from others living with depression and their families. If not, I wonder if you all might watch a documentary together such as No Kidding Me Too or Call me Crazy. If not that, ive sometimes encouraged folk to just leave some information on depression and how family can help like a pamphlet or handout on a table or around the house. We tend to get curious and read things we find on the table. Wishing you the best!\\n\"\n",
        "}\n",
        "]\n"
      ],
      "metadata": {
        "id": "ezpC5KEGgYYQ"
      },
      "execution_count": null,
      "outputs": []
    },
    {
      "cell_type": "markdown",
      "source": [
        "# Converting dataset to JSONL to feed Fine-tuning model"
      ],
      "metadata": {
        "id": "YSGCTzjCImGu"
      }
    },
    {
      "cell_type": "code",
      "source": [
        "\n",
        "file_name = \"training_data.jsonl\"\n",
        "\n",
        "with open(file_name, \"w\") as output_file:\n",
        " for entry in training_data:\n",
        "  json.dump(entry, output_file)\n",
        "  output_file.write(\"\\n\")"
      ],
      "metadata": {
        "id": "9d57VYyDgzvN"
      },
      "execution_count": null,
      "outputs": []
    },
    {
      "cell_type": "markdown",
      "source": [
        "# Fine-tuning model"
      ],
      "metadata": {
        "id": "ByvLLk_dIvul"
      }
    },
    {
      "cell_type": "code",
      "source": [
        "\n",
        "!openai tools fine_tunes.prepare_data -f training_data.jsonl"
      ],
      "metadata": {
        "colab": {
          "base_uri": "https://localhost:8080/"
        },
        "id": "o6d8EdHGg8w2",
        "outputId": "ee400ff0-420d-4fb1-def0-245af997555b"
      },
      "execution_count": null,
      "outputs": [
        {
          "output_type": "stream",
          "name": "stdout",
          "text": [
            "Analyzing...\n",
            "\n",
            "- Your file contains 9 prompt-completion pairs. In general, we recommend having at least a few hundred examples. We've found that performance tends to linearly increase for every doubling of the number of examples\n",
            "- Your data does not contain a common separator at the end of your prompts. Having a separator string appended to the end of the prompt makes it clearer to the fine-tuned model where the completion should begin. See https://platform.openai.com/docs/guides/fine-tuning/preparing-your-dataset for more detail and examples. If you intend to do open-ended generation, then you should leave the prompts empty\n",
            "- All completions end with suffix `\\n`\n",
            "- The completion should start with a whitespace character (` `). This tends to produce better results due to the tokenization we use. See https://platform.openai.com/docs/guides/fine-tuning/preparing-your-dataset for more details\n",
            "\n",
            "Based on the analysis we will perform the following actions:\n",
            "- [Recommended] Add a suffix separator ` ->` to all prompts [Y/n]: Y\n",
            "- [Recommended] Add a whitespace character to the beginning of the completion [Y/n]: Y\n",
            "\n",
            "\n",
            "Your data will be written to a new JSONL file. Proceed [Y/n]: Y\n",
            "\n",
            "Wrote modified file to `training_data_prepared.jsonl`\n",
            "Feel free to take a look!\n",
            "\n",
            "Now use that file when fine-tuning:\n",
            "> openai api fine_tunes.create -t \"training_data_prepared.jsonl\"\n",
            "\n",
            "After you’ve fine-tuned a model, remember that your prompt has to end with the indicator string ` ->` for the model to start generating completions, rather than continuing with the prompt. Make sure to include `stop=[\"\\n\"]` so that the generated texts ends at the expected place.\n",
            "Once your model starts training, it'll approximately take 2.57 minutes to train a `curie` model, and less for `ada` and `babbage`. Queue will approximately take half an hour per job ahead of you.\n"
          ]
        }
      ]
    },
    {
      "cell_type": "markdown",
      "source": [
        "# Uploading fine-tuning dataset to OpenAI"
      ],
      "metadata": {
        "id": "t8fcjGmcI6An"
      }
    },
    {
      "cell_type": "code",
      "source": [
        "\n",
        "upload_response = openai.File.create(\n",
        "  file=open(file_name, \"rb\"),\n",
        "  purpose='fine-tune'\n",
        ")\n",
        "file_id = upload_response.id\n",
        "upload_response"
      ],
      "metadata": {
        "colab": {
          "base_uri": "https://localhost:8080/"
        },
        "id": "CL6IP0dkg_Rz",
        "outputId": "182fa525-8d84-474e-c7c4-0d422f1cf5d8"
      },
      "execution_count": null,
      "outputs": [
        {
          "output_type": "execute_result",
          "data": {
            "text/plain": [
              "<File file id=file-1UERplda1haP1jcFJGIaOKnV at 0x7f8c383999a0> JSON: {\n",
              "  \"bytes\": 9225,\n",
              "  \"created_at\": 1679038997,\n",
              "  \"filename\": \"file\",\n",
              "  \"id\": \"file-1UERplda1haP1jcFJGIaOKnV\",\n",
              "  \"object\": \"file\",\n",
              "  \"purpose\": \"fine-tune\",\n",
              "  \"status\": \"uploaded\",\n",
              "  \"status_details\": null\n",
              "}"
            ]
          },
          "metadata": {},
          "execution_count": 13
        }
      ]
    },
    {
      "cell_type": "code",
      "source": [
        "\n",
        "fine_tune_response = openai.FineTune.create(training_file=file_id, model=\"ada\")\n",
        "fine_tune_response"
      ],
      "metadata": {
        "colab": {
          "base_uri": "https://localhost:8080/"
        },
        "id": "HAV_jK8UhdyN",
        "outputId": "2a25cb8d-7147-41a2-bca1-e8ba9c03a142"
      },
      "execution_count": null,
      "outputs": [
        {
          "output_type": "execute_result",
          "data": {
            "text/plain": [
              "<FineTune fine-tune id=ft-WBCmNlBDNIsGRToB55gOwl6Z at 0x7f8bf05bacc0> JSON: {\n",
              "  \"created_at\": 1679039097,\n",
              "  \"events\": [\n",
              "    {\n",
              "      \"created_at\": 1679039097,\n",
              "      \"level\": \"info\",\n",
              "      \"message\": \"Created fine-tune: ft-WBCmNlBDNIsGRToB55gOwl6Z\",\n",
              "      \"object\": \"fine-tune-event\"\n",
              "    }\n",
              "  ],\n",
              "  \"fine_tuned_model\": null,\n",
              "  \"hyperparams\": {\n",
              "    \"batch_size\": null,\n",
              "    \"learning_rate_multiplier\": null,\n",
              "    \"n_epochs\": 4,\n",
              "    \"prompt_loss_weight\": 0.01\n",
              "  },\n",
              "  \"id\": \"ft-WBCmNlBDNIsGRToB55gOwl6Z\",\n",
              "  \"model\": \"ada\",\n",
              "  \"object\": \"fine-tune\",\n",
              "  \"organization_id\": \"org-Ut0PPUTkWx84hmr9UYQeMMkA\",\n",
              "  \"result_files\": [],\n",
              "  \"status\": \"pending\",\n",
              "  \"training_files\": [\n",
              "    {\n",
              "      \"bytes\": 9225,\n",
              "      \"created_at\": 1679038997,\n",
              "      \"filename\": \"file\",\n",
              "      \"id\": \"file-1UERplda1haP1jcFJGIaOKnV\",\n",
              "      \"object\": \"file\",\n",
              "      \"purpose\": \"fine-tune\",\n",
              "      \"status\": \"processed\",\n",
              "      \"status_details\": null\n",
              "    }\n",
              "  ],\n",
              "  \"updated_at\": 1679039097,\n",
              "  \"validation_files\": []\n",
              "}"
            ]
          },
          "metadata": {},
          "execution_count": 14
        }
      ]
    },
    {
      "cell_type": "code",
      "source": [
        "\n",
        "fine_tune_events = openai.FineTune.list_events(id=fine_tune_response.id)\n",
        "fine_tune_events"
      ],
      "metadata": {
        "colab": {
          "base_uri": "https://localhost:8080/"
        },
        "id": "abKGgN5mh2PB",
        "outputId": "b34593ee-4766-4cc0-e036-0e85e07e9839"
      },
      "execution_count": null,
      "outputs": [
        {
          "output_type": "execute_result",
          "data": {
            "text/plain": [
              "<OpenAIObject list at 0x7f8bf0497450> JSON: {\n",
              "  \"data\": [\n",
              "    {\n",
              "      \"created_at\": 1679039097,\n",
              "      \"level\": \"info\",\n",
              "      \"message\": \"Created fine-tune: ft-WBCmNlBDNIsGRToB55gOwl6Z\",\n",
              "      \"object\": \"fine-tune-event\"\n",
              "    },\n",
              "    {\n",
              "      \"created_at\": 1679039260,\n",
              "      \"level\": \"info\",\n",
              "      \"message\": \"Fine-tune costs $0.00\",\n",
              "      \"object\": \"fine-tune-event\"\n",
              "    },\n",
              "    {\n",
              "      \"created_at\": 1679039260,\n",
              "      \"level\": \"info\",\n",
              "      \"message\": \"Fine-tune enqueued. Queue number: 2\",\n",
              "      \"object\": \"fine-tune-event\"\n",
              "    }\n",
              "  ],\n",
              "  \"object\": \"list\"\n",
              "}"
            ]
          },
          "metadata": {},
          "execution_count": 19
        }
      ]
    },
    {
      "cell_type": "code",
      "source": [
        "response = openai.FineTune.retrieve(id=fine_tune_response.id)\n",
        "response.events"
      ],
      "metadata": {
        "colab": {
          "base_uri": "https://localhost:8080/"
        },
        "id": "OfIG-npEjZqc",
        "outputId": "1fb913ed-9b71-4a9e-b351-45deb58c86dd"
      },
      "execution_count": null,
      "outputs": [
        {
          "output_type": "execute_result",
          "data": {
            "text/plain": [
              "[<OpenAIObject fine-tune-event at 0x7f8bf0376180> JSON: {\n",
              "   \"created_at\": 1679039097,\n",
              "   \"level\": \"info\",\n",
              "   \"message\": \"Created fine-tune: ft-WBCmNlBDNIsGRToB55gOwl6Z\",\n",
              "   \"object\": \"fine-tune-event\"\n",
              " }, <OpenAIObject fine-tune-event at 0x7f8bf0376220> JSON: {\n",
              "   \"created_at\": 1679039260,\n",
              "   \"level\": \"info\",\n",
              "   \"message\": \"Fine-tune costs $0.00\",\n",
              "   \"object\": \"fine-tune-event\"\n",
              " }, <OpenAIObject fine-tune-event at 0x7f8bf03762c0> JSON: {\n",
              "   \"created_at\": 1679039260,\n",
              "   \"level\": \"info\",\n",
              "   \"message\": \"Fine-tune enqueued. Queue number: 2\",\n",
              "   \"object\": \"fine-tune-event\"\n",
              " }, <OpenAIObject fine-tune-event at 0x7f8bf0376360> JSON: {\n",
              "   \"created_at\": 1679039653,\n",
              "   \"level\": \"info\",\n",
              "   \"message\": \"Fine-tune is in the queue. Queue number: 1\",\n",
              "   \"object\": \"fine-tune-event\"\n",
              " }, <OpenAIObject fine-tune-event at 0x7f8bf0376400> JSON: {\n",
              "   \"created_at\": 1679039685,\n",
              "   \"level\": \"info\",\n",
              "   \"message\": \"Fine-tune is in the queue. Queue number: 0\",\n",
              "   \"object\": \"fine-tune-event\"\n",
              " }, <OpenAIObject fine-tune-event at 0x7f8bf03764a0> JSON: {\n",
              "   \"created_at\": 1679039686,\n",
              "   \"level\": \"info\",\n",
              "   \"message\": \"Fine-tune started\",\n",
              "   \"object\": \"fine-tune-event\"\n",
              " }]"
            ]
          },
          "metadata": {},
          "execution_count": 22
        }
      ]
    },
    {
      "cell_type": "markdown",
      "source": [
        "# Fine-tuned Model"
      ],
      "metadata": {
        "id": "IEBRnTDIJEW5"
      }
    },
    {
      "cell_type": "code",
      "source": [
        "\n",
        "# Option 1 | if response.fine_tuned_model != null\n",
        "fine_tuned_model = response.fine_tuned_model\n",
        "fine_tuned_model\n",
        "\n",
        "# Option 2 | if response.fine_tuned_model == null\n",
        "retrieve_response = openai.FineTune.retrieve(response.id)\n",
        "fine_tuned_model = retrieve_response.fine_tuned_model\n",
        "fine_tuned_model"
      ],
      "metadata": {
        "colab": {
          "base_uri": "https://localhost:8080/",
          "height": 36
        },
        "id": "Hz8h1dYLjeBc",
        "outputId": "38d1f9dc-9e74-408a-c32c-44eb0d3dae97"
      },
      "execution_count": null,
      "outputs": [
        {
          "output_type": "execute_result",
          "data": {
            "text/plain": [
              "'ada:ft-personal-2023-03-17-07-55-27'"
            ],
            "application/vnd.google.colaboratory.intrinsic+json": {
              "type": "string"
            }
          },
          "metadata": {},
          "execution_count": 24
        }
      ]
    },
    {
      "cell_type": "markdown",
      "source": [
        "# Testing the Model"
      ],
      "metadata": {
        "id": "Hom-u7DzJH0v"
      }
    },
    {
      "cell_type": "code",
      "source": [
        "\n",
        "new_prompt = \"I am feeling so dumb and worthless.I have been feeling more and more down for over a month. I have started having trouble sleeping due to panic attacks. Am i suffering from any mental disease?\""
      ],
      "metadata": {
        "id": "tqqCBWJYjkly"
      },
      "execution_count": null,
      "outputs": []
    },
    {
      "cell_type": "code",
      "source": [
        "\n",
        "answer = openai.Completion.create(\n",
        "  model=fine_tuned_model,\n",
        "  prompt=new_prompt,\n",
        "  max_tokens=100,\n",
        "  temperature=0\n",
        ")\n",
        "answer['choices'][0]['text']"
      ],
      "metadata": {
        "colab": {
          "base_uri": "https://localhost:8080/",
          "height": 70
        },
        "id": "hvJ1eg6Wkfx0",
        "outputId": "16c8eb4b-c375-4afb-d628-482ff86b7707"
      },
      "execution_count": null,
      "outputs": [
        {
          "output_type": "execute_result",
          "data": {
            "text/plain": [
              "'I am feeling so dumb and worthless.I have been feeling more and more down for over a month. I have started having trouble sleeping due to panic attacks.\\n\\nI am feeling down and worthless.\\n\\nI am feeling down and worthless.\\n\\nI am feeling down and worthless.\\n\\nI am feeling down and worthless.\\n\\nI am feeling down and worthless.\\n\\nI am feeling down and worthless.\\n\\nI am feeling down and worthless.\\n\\nI am feeling'"
            ],
            "application/vnd.google.colaboratory.intrinsic+json": {
              "type": "string"
            }
          },
          "metadata": {},
          "execution_count": 28
        }
      ]
    }
  ]
}